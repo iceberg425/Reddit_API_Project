{
 "cells": [
  {
   "cell_type": "code",
   "execution_count": 1,
   "metadata": {},
   "outputs": [],
   "source": [
    "import pandas as pd\n",
    "import numpy as np\n",
    "import matplotlib.pyplot as plt\n",
    "%matplotlib inline"
   ]
  },
  {
   "cell_type": "code",
   "execution_count": 4,
   "metadata": {},
   "outputs": [],
   "source": [
    "from sklearn.feature_extraction.text import TfidfVectorizer\n",
    "from sklearn.model_selection import train_test_split, GridSearchCV, cross_val_score\n",
    "\n",
    "from sklearn.ensemble import GradientBoostingClassifier\n",
    "from sklearn.pipeline import Pipeline"
   ]
  },
  {
   "cell_type": "code",
   "execution_count": 6,
   "metadata": {},
   "outputs": [],
   "source": [
    "from sklearn.metrics import confusion_matrix, classification_report, roc_auc_score\n",
    "from sklearn.metrics import roc_curve, precision_recall_curve, auc"
   ]
  },
  {
   "cell_type": "code",
   "execution_count": 14,
   "metadata": {},
   "outputs": [],
   "source": [
    "from bs4 import BeautifulSoup \n",
    "from nltk.corpus import stopwords\n",
    "\n",
    "import nltk \n",
    "from nltk.stem import WordNetLemmatizer\n",
    "lemmatizer = WordNetLemmatizer()"
   ]
  },
  {
   "cell_type": "code",
   "execution_count": 15,
   "metadata": {},
   "outputs": [],
   "source": [
    "from nltk.tokenize import RegexpTokenizer, word_tokenize\n",
    "from nltk.stem.porter import PorterStemmer\n",
    "\n",
    "import regex as re"
   ]
  },
  {
   "cell_type": "code",
   "execution_count": 16,
   "metadata": {},
   "outputs": [
    {
     "data": {
      "text/html": [
       "<div>\n",
       "<style scoped>\n",
       "    .dataframe tbody tr th:only-of-type {\n",
       "        vertical-align: middle;\n",
       "    }\n",
       "\n",
       "    .dataframe tbody tr th {\n",
       "        vertical-align: top;\n",
       "    }\n",
       "\n",
       "    .dataframe thead th {\n",
       "        text-align: right;\n",
       "    }\n",
       "</style>\n",
       "<table border=\"1\" class=\"dataframe\">\n",
       "  <thead>\n",
       "    <tr style=\"text-align: right;\">\n",
       "      <th></th>\n",
       "      <th>posts_combined</th>\n",
       "      <th>subreddit</th>\n",
       "      <th>is_tv</th>\n",
       "    </tr>\n",
       "  </thead>\n",
       "  <tbody>\n",
       "    <tr>\n",
       "      <th>0</th>\n",
       "      <td>We made a fantasy horror movie with a 30K budg...</td>\n",
       "      <td>movies</td>\n",
       "      <td>0</td>\n",
       "    </tr>\n",
       "    <tr>\n",
       "      <th>1</th>\n",
       "      <td>Kumail Nanjiani to star in 'Any Person, Living...</td>\n",
       "      <td>movies</td>\n",
       "      <td>0</td>\n",
       "    </tr>\n",
       "    <tr>\n",
       "      <th>2</th>\n",
       "      <td>Some Princess Mononoke fan art :)</td>\n",
       "      <td>movies</td>\n",
       "      <td>0</td>\n",
       "    </tr>\n",
       "    <tr>\n",
       "      <th>3</th>\n",
       "      <td>So I accidentally found where they filmed Edwa...</td>\n",
       "      <td>movies</td>\n",
       "      <td>0</td>\n",
       "    </tr>\n",
       "    <tr>\n",
       "      <th>4</th>\n",
       "      <td>Robert Pattinson was not allowed to keep a cop...</td>\n",
       "      <td>movies</td>\n",
       "      <td>0</td>\n",
       "    </tr>\n",
       "  </tbody>\n",
       "</table>\n",
       "</div>"
      ],
      "text/plain": [
       "                                      posts_combined subreddit  is_tv\n",
       "0  We made a fantasy horror movie with a 30K budg...    movies      0\n",
       "1  Kumail Nanjiani to star in 'Any Person, Living...    movies      0\n",
       "2                  Some Princess Mononoke fan art :)    movies      0\n",
       "3  So I accidentally found where they filmed Edwa...    movies      0\n",
       "4  Robert Pattinson was not allowed to keep a cop...    movies      0"
      ]
     },
     "execution_count": 16,
     "metadata": {},
     "output_type": "execute_result"
    }
   ],
   "source": [
    "holdout = pd.read_csv('./data/test.csv')\n",
    "holdout.head()"
   ]
  },
  {
   "cell_type": "code",
   "execution_count": 17,
   "metadata": {},
   "outputs": [],
   "source": [
    "def post_to_words(raw_post):\n",
    "    # Function to convert a post to a string of words\n",
    "    # The input is a single string (a raw movie/tv post), and \n",
    "    # the output is a single string (a preprocessed movie/tv post)\n",
    "    \n",
    "    # 1. Remove HTML.\n",
    "    post_text = BeautifulSoup(raw_post).get_text()\n",
    "    \n",
    "    # 2. Remove non-letters.\n",
    "    letters_only = re.sub(\"[^a-zA-Z]\", \" \", post_text)\n",
    "    \n",
    "    # 3. Convert to lower case, split into individual words.\n",
    "    words = letters_only.lower().split()\n",
    "    \n",
    "    \n",
    "    # 4. In Python, searching a set is much faster than searching\n",
    "    # a list, so convert the stop words to a set.\n",
    "    stops = set(stopwords.words('english'))\n",
    "    \n",
    "    # 5. Remove stop words.\n",
    "    meaningful_words = [w for w in words if not w in stops]\n",
    "    \n",
    "    # 6. Join the words back into one string separated by space, \n",
    "    # and return the result.\n",
    "    return(\" \".join(meaningful_words))"
   ]
  },
  {
   "cell_type": "code",
   "execution_count": 18,
   "metadata": {},
   "outputs": [
    {
     "data": {
      "text/html": [
       "<div>\n",
       "<style scoped>\n",
       "    .dataframe tbody tr th:only-of-type {\n",
       "        vertical-align: middle;\n",
       "    }\n",
       "\n",
       "    .dataframe tbody tr th {\n",
       "        vertical-align: top;\n",
       "    }\n",
       "\n",
       "    .dataframe thead th {\n",
       "        text-align: right;\n",
       "    }\n",
       "</style>\n",
       "<table border=\"1\" class=\"dataframe\">\n",
       "  <thead>\n",
       "    <tr style=\"text-align: right;\">\n",
       "      <th></th>\n",
       "      <th>posts_combined</th>\n",
       "      <th>subreddit</th>\n",
       "      <th>is_tv</th>\n",
       "      <th>clean_text</th>\n",
       "    </tr>\n",
       "  </thead>\n",
       "  <tbody>\n",
       "    <tr>\n",
       "      <th>0</th>\n",
       "      <td>We made a fantasy horror movie with a 30K budg...</td>\n",
       "      <td>movies</td>\n",
       "      <td>0</td>\n",
       "      <td>made fantasy horror movie k budget popular tra...</td>\n",
       "    </tr>\n",
       "    <tr>\n",
       "      <th>1</th>\n",
       "      <td>Kumail Nanjiani to star in 'Any Person, Living...</td>\n",
       "      <td>movies</td>\n",
       "      <td>0</td>\n",
       "      <td>kumail nanjiani star person living dead scient...</td>\n",
       "    </tr>\n",
       "    <tr>\n",
       "      <th>2</th>\n",
       "      <td>Some Princess Mononoke fan art :)</td>\n",
       "      <td>movies</td>\n",
       "      <td>0</td>\n",
       "      <td>princess mononoke fan art</td>\n",
       "    </tr>\n",
       "    <tr>\n",
       "      <th>3</th>\n",
       "      <td>So I accidentally found where they filmed Edwa...</td>\n",
       "      <td>movies</td>\n",
       "      <td>0</td>\n",
       "      <td>accidentally found filmed edward scissor hands</td>\n",
       "    </tr>\n",
       "    <tr>\n",
       "      <th>4</th>\n",
       "      <td>Robert Pattinson was not allowed to keep a cop...</td>\n",
       "      <td>movies</td>\n",
       "      <td>0</td>\n",
       "      <td>robert pattinson allowed keep copy script chri...</td>\n",
       "    </tr>\n",
       "  </tbody>\n",
       "</table>\n",
       "</div>"
      ],
      "text/plain": [
       "                                      posts_combined subreddit  is_tv  \\\n",
       "0  We made a fantasy horror movie with a 30K budg...    movies      0   \n",
       "1  Kumail Nanjiani to star in 'Any Person, Living...    movies      0   \n",
       "2                  Some Princess Mononoke fan art :)    movies      0   \n",
       "3  So I accidentally found where they filmed Edwa...    movies      0   \n",
       "4  Robert Pattinson was not allowed to keep a cop...    movies      0   \n",
       "\n",
       "                                          clean_text  \n",
       "0  made fantasy horror movie k budget popular tra...  \n",
       "1  kumail nanjiani star person living dead scient...  \n",
       "2                          princess mononoke fan art  \n",
       "3     accidentally found filmed edward scissor hands  \n",
       "4  robert pattinson allowed keep copy script chri...  "
      ]
     },
     "execution_count": 18,
     "metadata": {},
     "output_type": "execute_result"
    }
   ],
   "source": [
    "holdout['clean_text'] = holdout['posts_combined'].apply(post_to_words)\n",
    "holdout.head()"
   ]
  },
  {
   "cell_type": "code",
   "execution_count": 19,
   "metadata": {},
   "outputs": [],
   "source": [
    "X_hold = holdout['posts_combined']\n",
    "y_hold = holdout['is_tv']"
   ]
  },
  {
   "cell_type": "code",
   "execution_count": 20,
   "metadata": {},
   "outputs": [
    {
     "name": "stdout",
     "output_type": "stream",
     "text": [
      "There are 1344 posts.\n"
     ]
    }
   ],
   "source": [
    "# Get the number of posts based on the dataframe size.\n",
    "total_post = X_hold.shape[0]\n",
    "print(f'There are {total_post} posts.')\n",
    "\n",
    "# Initialize an empty list to hold the clean posts.\n",
    "clean_X_hold = []"
   ]
  },
  {
   "cell_type": "code",
   "execution_count": 21,
   "metadata": {},
   "outputs": [
    {
     "name": "stdout",
     "output_type": "stream",
     "text": [
      "Cleaning and parsing the holdout set movie/tv reviews...\n",
      "Post 250 of 1344.\n",
      "Post 500 of 1344.\n",
      "Post 750 of 1344.\n",
      "Post 1000 of 1344.\n",
      "Post 1250 of 1344.\n"
     ]
    }
   ],
   "source": [
    "print(\"Cleaning and parsing the holdout set movie/tv reviews...\")\n",
    "\n",
    "j = 0\n",
    "for docs in X_hold:\n",
    "    # Convert posts to words, then append to clean_X_hold.\n",
    "    clean_X_hold.append(post_to_words(docs))\n",
    "    \n",
    "    # If the index is divisible by 250, print a message\n",
    "    if (j + 1) % 250 == 0:\n",
    "        print(f'Post {j + 1} of {total_post}.')\n",
    "    \n",
    "    j += 1"
   ]
  },
  {
   "cell_type": "code",
   "execution_count": 22,
   "metadata": {},
   "outputs": [
    {
     "data": {
      "text/plain": [
       "'karey burke interview new abc chief jimmy kimmel future another host less oscars'"
      ]
     },
     "execution_count": 22,
     "metadata": {},
     "output_type": "execute_result"
    }
   ],
   "source": [
    "clean_X_hold[450]"
   ]
  },
  {
   "cell_type": "code",
   "execution_count": 33,
   "metadata": {},
   "outputs": [],
   "source": [
    "X_hold_clean = pd.Series(clean_X_hold)\n"
   ]
  },
  {
   "cell_type": "code",
   "execution_count": 35,
   "metadata": {},
   "outputs": [
    {
     "data": {
      "text/plain": [
       "(1344,)"
      ]
     },
     "execution_count": 35,
     "metadata": {},
     "output_type": "execute_result"
    }
   ],
   "source": [
    "X_hold_clean.shape"
   ]
  },
  {
   "cell_type": "code",
   "execution_count": 38,
   "metadata": {},
   "outputs": [
    {
     "data": {
      "text/html": [
       "<div>\n",
       "<style scoped>\n",
       "    .dataframe tbody tr th:only-of-type {\n",
       "        vertical-align: middle;\n",
       "    }\n",
       "\n",
       "    .dataframe tbody tr th {\n",
       "        vertical-align: top;\n",
       "    }\n",
       "\n",
       "    .dataframe thead th {\n",
       "        text-align: right;\n",
       "    }\n",
       "</style>\n",
       "<table border=\"1\" class=\"dataframe\">\n",
       "  <thead>\n",
       "    <tr style=\"text-align: right;\">\n",
       "      <th></th>\n",
       "      <th>posts_combined</th>\n",
       "      <th>subreddit</th>\n",
       "      <th>is_tv</th>\n",
       "      <th>clean_text</th>\n",
       "      <th>stemmed_text</th>\n",
       "      <th>lemmed_text</th>\n",
       "      <th>pnouns_from_lemmed</th>\n",
       "    </tr>\n",
       "  </thead>\n",
       "  <tbody>\n",
       "    <tr>\n",
       "      <th>0</th>\n",
       "      <td>Official Discussion Weekly Megathread (Pet Sem...</td>\n",
       "      <td>movies</td>\n",
       "      <td>0</td>\n",
       "      <td>official discussion weekly megathread pet sema...</td>\n",
       "      <td>offici discuss weekli megathread ( pet sematar...</td>\n",
       "      <td>Official Discussion Weekly Megathread Pet Sema...</td>\n",
       "      <td>Discussion Weekly Megathread Pet Sematary Shaz...</td>\n",
       "    </tr>\n",
       "    <tr>\n",
       "      <th>1</th>\n",
       "      <td>Twenty years ago, an upstart animator named Mi...</td>\n",
       "      <td>movies</td>\n",
       "      <td>0</td>\n",
       "      <td>twenty years ago upstart animator named mike j...</td>\n",
       "      <td>twenti year ago , an upstart anim name mike ju...</td>\n",
       "      <td>Twenty Mike Judge At Office Space</td>\n",
       "      <td>Mike Judge Office</td>\n",
       "    </tr>\n",
       "    <tr>\n",
       "      <th>2</th>\n",
       "      <td>10 years later and Avatar still holds the reco...</td>\n",
       "      <td>movies</td>\n",
       "      <td>0</td>\n",
       "      <td>years later avatar still holds record highest ...</td>\n",
       "      <td>10 year later and avatar still hold the record...</td>\n",
       "      <td>Avatar</td>\n",
       "      <td>NaN</td>\n",
       "    </tr>\n",
       "    <tr>\n",
       "      <th>3</th>\n",
       "      <td>‘Hellboy’ Receives Rare R 18+ Rating in Austra...</td>\n",
       "      <td>movies</td>\n",
       "      <td>0</td>\n",
       "      <td>hellboy receives rare r rating australia stron...</td>\n",
       "      <td>‘ hellboy ’ receiv rare R 18+ rate in australi...</td>\n",
       "      <td>Hellboy Receives Rare Rating Australia Strong ...</td>\n",
       "      <td>Hellboy Rare Rating Australia Strong Bloody Vi...</td>\n",
       "    </tr>\n",
       "    <tr>\n",
       "      <th>4</th>\n",
       "      <td>In 2015, Maggie Gyllenhaal, then 37, was told ...</td>\n",
       "      <td>movies</td>\n",
       "      <td>0</td>\n",
       "      <td>maggie gyllenhaal told old play love interest ...</td>\n",
       "      <td>In 2015 , maggi gyllenha , then 37 , wa told s...</td>\n",
       "      <td>In Maggie Gyllenhaal Any</td>\n",
       "      <td>Maggie Gyllenhaal Any</td>\n",
       "    </tr>\n",
       "  </tbody>\n",
       "</table>\n",
       "</div>"
      ],
      "text/plain": [
       "                                      posts_combined subreddit  is_tv  \\\n",
       "0  Official Discussion Weekly Megathread (Pet Sem...    movies      0   \n",
       "1  Twenty years ago, an upstart animator named Mi...    movies      0   \n",
       "2  10 years later and Avatar still holds the reco...    movies      0   \n",
       "3  ‘Hellboy’ Receives Rare R 18+ Rating in Austra...    movies      0   \n",
       "4  In 2015, Maggie Gyllenhaal, then 37, was told ...    movies      0   \n",
       "\n",
       "                                          clean_text  \\\n",
       "0  official discussion weekly megathread pet sema...   \n",
       "1  twenty years ago upstart animator named mike j...   \n",
       "2  years later avatar still holds record highest ...   \n",
       "3  hellboy receives rare r rating australia stron...   \n",
       "4  maggie gyllenhaal told old play love interest ...   \n",
       "\n",
       "                                        stemmed_text  \\\n",
       "0  offici discuss weekli megathread ( pet sematar...   \n",
       "1  twenti year ago , an upstart anim name mike ju...   \n",
       "2  10 year later and avatar still hold the record...   \n",
       "3  ‘ hellboy ’ receiv rare R 18+ rate in australi...   \n",
       "4  In 2015 , maggi gyllenha , then 37 , wa told s...   \n",
       "\n",
       "                                         lemmed_text  \\\n",
       "0  Official Discussion Weekly Megathread Pet Sema...   \n",
       "1                 Twenty Mike Judge At Office Space    \n",
       "2                                            Avatar    \n",
       "3  Hellboy Receives Rare Rating Australia Strong ...   \n",
       "4                          In Maggie Gyllenhaal Any    \n",
       "\n",
       "                                  pnouns_from_lemmed  \n",
       "0  Discussion Weekly Megathread Pet Sematary Shaz...  \n",
       "1                                 Mike Judge Office   \n",
       "2                                                NaN  \n",
       "3  Hellboy Rare Rating Australia Strong Bloody Vi...  \n",
       "4                             Maggie Gyllenhaal Any   "
      ]
     },
     "execution_count": 38,
     "metadata": {},
     "output_type": "execute_result"
    }
   ],
   "source": [
    "train = pd.read_csv('./data/train_clean.csv')\n",
    "train.head()"
   ]
  },
  {
   "cell_type": "code",
   "execution_count": 39,
   "metadata": {},
   "outputs": [
    {
     "data": {
      "text/plain": [
       "(2061,)"
      ]
     },
     "execution_count": 39,
     "metadata": {},
     "output_type": "execute_result"
    }
   ],
   "source": [
    "train['clean_text'].shape"
   ]
  },
  {
   "cell_type": "code",
   "execution_count": 44,
   "metadata": {},
   "outputs": [],
   "source": [
    "tvec = TfidfVectorizer(strip_accents='ascii',  \n",
    "                       max_features=500,  \n",
    "                       ngram_range= (1, 2))\n",
    "\n",
    "X_train_vec = tvec.fit_transform(train['clean_text'])\n",
    "X_hold = tvec.transform(X_hold_clean)"
   ]
  },
  {
   "cell_type": "code",
   "execution_count": 45,
   "metadata": {},
   "outputs": [
    {
     "data": {
      "text/plain": [
       "(2061, 500)"
      ]
     },
     "execution_count": 45,
     "metadata": {},
     "output_type": "execute_result"
    }
   ],
   "source": [
    "X_train_vec.shape"
   ]
  },
  {
   "cell_type": "code",
   "execution_count": 46,
   "metadata": {},
   "outputs": [
    {
     "data": {
      "text/plain": [
       "(1344, 500)"
      ]
     },
     "execution_count": 46,
     "metadata": {},
     "output_type": "execute_result"
    }
   ],
   "source": [
    "X_hold.shape"
   ]
  },
  {
   "cell_type": "code",
   "execution_count": 47,
   "metadata": {},
   "outputs": [
    {
     "data": {
      "text/html": [
       "<div>\n",
       "<style scoped>\n",
       "    .dataframe tbody tr th:only-of-type {\n",
       "        vertical-align: middle;\n",
       "    }\n",
       "\n",
       "    .dataframe tbody tr th {\n",
       "        vertical-align: top;\n",
       "    }\n",
       "\n",
       "    .dataframe thead th {\n",
       "        text-align: right;\n",
       "    }\n",
       "</style>\n",
       "<table border=\"1\" class=\"dataframe\">\n",
       "  <thead>\n",
       "    <tr style=\"text-align: right;\">\n",
       "      <th></th>\n",
       "      <th>abby</th>\n",
       "      <th>abc</th>\n",
       "      <th>academy</th>\n",
       "      <th>access</th>\n",
       "      <th>acting</th>\n",
       "      <th>action</th>\n",
       "      <th>actor</th>\n",
       "      <th>actors</th>\n",
       "      <th>actually</th>\n",
       "      <th>ad</th>\n",
       "      <th>...</th>\n",
       "      <th>would</th>\n",
       "      <th>writers</th>\n",
       "      <th>wrong</th>\n",
       "      <th>wrote</th>\n",
       "      <th>wwe</th>\n",
       "      <th>year</th>\n",
       "      <th>years</th>\n",
       "      <th>young</th>\n",
       "      <th>youtube</th>\n",
       "      <th>zone</th>\n",
       "    </tr>\n",
       "  </thead>\n",
       "  <tbody>\n",
       "    <tr>\n",
       "      <th>0</th>\n",
       "      <td>0.0</td>\n",
       "      <td>0.0</td>\n",
       "      <td>0.0</td>\n",
       "      <td>0.0</td>\n",
       "      <td>0.0</td>\n",
       "      <td>0.000000</td>\n",
       "      <td>0.0</td>\n",
       "      <td>0.0</td>\n",
       "      <td>0.0</td>\n",
       "      <td>0.0</td>\n",
       "      <td>...</td>\n",
       "      <td>0.0</td>\n",
       "      <td>0.0</td>\n",
       "      <td>0.000000</td>\n",
       "      <td>0.0</td>\n",
       "      <td>0.0</td>\n",
       "      <td>0.0</td>\n",
       "      <td>0.0</td>\n",
       "      <td>0.0</td>\n",
       "      <td>0.0</td>\n",
       "      <td>0.0</td>\n",
       "    </tr>\n",
       "    <tr>\n",
       "      <th>1</th>\n",
       "      <td>0.0</td>\n",
       "      <td>0.0</td>\n",
       "      <td>0.0</td>\n",
       "      <td>0.0</td>\n",
       "      <td>0.0</td>\n",
       "      <td>0.000000</td>\n",
       "      <td>0.0</td>\n",
       "      <td>0.0</td>\n",
       "      <td>0.0</td>\n",
       "      <td>0.0</td>\n",
       "      <td>...</td>\n",
       "      <td>0.0</td>\n",
       "      <td>0.0</td>\n",
       "      <td>0.390193</td>\n",
       "      <td>0.0</td>\n",
       "      <td>0.0</td>\n",
       "      <td>0.0</td>\n",
       "      <td>0.0</td>\n",
       "      <td>0.0</td>\n",
       "      <td>0.0</td>\n",
       "      <td>0.0</td>\n",
       "    </tr>\n",
       "    <tr>\n",
       "      <th>2</th>\n",
       "      <td>0.0</td>\n",
       "      <td>0.0</td>\n",
       "      <td>0.0</td>\n",
       "      <td>0.0</td>\n",
       "      <td>0.0</td>\n",
       "      <td>0.000000</td>\n",
       "      <td>0.0</td>\n",
       "      <td>0.0</td>\n",
       "      <td>0.0</td>\n",
       "      <td>0.0</td>\n",
       "      <td>...</td>\n",
       "      <td>0.0</td>\n",
       "      <td>0.0</td>\n",
       "      <td>0.000000</td>\n",
       "      <td>0.0</td>\n",
       "      <td>0.0</td>\n",
       "      <td>0.0</td>\n",
       "      <td>0.0</td>\n",
       "      <td>0.0</td>\n",
       "      <td>0.0</td>\n",
       "      <td>0.0</td>\n",
       "    </tr>\n",
       "    <tr>\n",
       "      <th>3</th>\n",
       "      <td>0.0</td>\n",
       "      <td>0.0</td>\n",
       "      <td>0.0</td>\n",
       "      <td>0.0</td>\n",
       "      <td>0.0</td>\n",
       "      <td>0.000000</td>\n",
       "      <td>0.0</td>\n",
       "      <td>0.0</td>\n",
       "      <td>0.0</td>\n",
       "      <td>0.0</td>\n",
       "      <td>...</td>\n",
       "      <td>0.0</td>\n",
       "      <td>0.0</td>\n",
       "      <td>0.000000</td>\n",
       "      <td>0.0</td>\n",
       "      <td>0.0</td>\n",
       "      <td>0.0</td>\n",
       "      <td>0.0</td>\n",
       "      <td>0.0</td>\n",
       "      <td>0.0</td>\n",
       "      <td>0.0</td>\n",
       "    </tr>\n",
       "    <tr>\n",
       "      <th>4</th>\n",
       "      <td>0.0</td>\n",
       "      <td>0.0</td>\n",
       "      <td>0.0</td>\n",
       "      <td>0.0</td>\n",
       "      <td>0.0</td>\n",
       "      <td>0.359481</td>\n",
       "      <td>0.0</td>\n",
       "      <td>0.0</td>\n",
       "      <td>0.0</td>\n",
       "      <td>0.0</td>\n",
       "      <td>...</td>\n",
       "      <td>0.0</td>\n",
       "      <td>0.0</td>\n",
       "      <td>0.000000</td>\n",
       "      <td>0.0</td>\n",
       "      <td>0.0</td>\n",
       "      <td>0.0</td>\n",
       "      <td>0.0</td>\n",
       "      <td>0.0</td>\n",
       "      <td>0.0</td>\n",
       "      <td>0.0</td>\n",
       "    </tr>\n",
       "  </tbody>\n",
       "</table>\n",
       "<p>5 rows × 500 columns</p>\n",
       "</div>"
      ],
      "text/plain": [
       "   abby  abc  academy  access  acting    action  actor  actors  actually   ad  \\\n",
       "0   0.0  0.0      0.0     0.0     0.0  0.000000    0.0     0.0       0.0  0.0   \n",
       "1   0.0  0.0      0.0     0.0     0.0  0.000000    0.0     0.0       0.0  0.0   \n",
       "2   0.0  0.0      0.0     0.0     0.0  0.000000    0.0     0.0       0.0  0.0   \n",
       "3   0.0  0.0      0.0     0.0     0.0  0.000000    0.0     0.0       0.0  0.0   \n",
       "4   0.0  0.0      0.0     0.0     0.0  0.359481    0.0     0.0       0.0  0.0   \n",
       "\n",
       "   ...  would  writers     wrong  wrote  wwe  year  years  young  youtube  \\\n",
       "0  ...    0.0      0.0  0.000000    0.0  0.0   0.0    0.0    0.0      0.0   \n",
       "1  ...    0.0      0.0  0.390193    0.0  0.0   0.0    0.0    0.0      0.0   \n",
       "2  ...    0.0      0.0  0.000000    0.0  0.0   0.0    0.0    0.0      0.0   \n",
       "3  ...    0.0      0.0  0.000000    0.0  0.0   0.0    0.0    0.0      0.0   \n",
       "4  ...    0.0      0.0  0.000000    0.0  0.0   0.0    0.0    0.0      0.0   \n",
       "\n",
       "   zone  \n",
       "0   0.0  \n",
       "1   0.0  \n",
       "2   0.0  \n",
       "3   0.0  \n",
       "4   0.0  \n",
       "\n",
       "[5 rows x 500 columns]"
      ]
     },
     "execution_count": 47,
     "metadata": {},
     "output_type": "execute_result"
    }
   ],
   "source": [
    "tokens = tvec.get_feature_names()\n",
    "\n",
    "pd.DataFrame(data=X_hold.toarray(), columns=tokens).head()"
   ]
  },
  {
   "cell_type": "code",
   "execution_count": 48,
   "metadata": {},
   "outputs": [],
   "source": [
    "gb = GradientBoostingClassifier(warm_start=True, \n",
    "                                learning_rate = 0.4, \n",
    "                                max_depth = 6, \n",
    "                                n_estimators = 150)"
   ]
  },
  {
   "cell_type": "code",
   "execution_count": 49,
   "metadata": {},
   "outputs": [
    {
     "data": {
      "text/plain": [
       "GradientBoostingClassifier(criterion='friedman_mse', init=None,\n",
       "              learning_rate=0.4, loss='deviance', max_depth=6,\n",
       "              max_features=None, max_leaf_nodes=None,\n",
       "              min_impurity_decrease=0.0, min_impurity_split=None,\n",
       "              min_samples_leaf=1, min_samples_split=2,\n",
       "              min_weight_fraction_leaf=0.0, n_estimators=150,\n",
       "              n_iter_no_change=None, presort='auto', random_state=None,\n",
       "              subsample=1.0, tol=0.0001, validation_fraction=0.1,\n",
       "              verbose=0, warm_start=True)"
      ]
     },
     "execution_count": 49,
     "metadata": {},
     "output_type": "execute_result"
    }
   ],
   "source": [
    "gb.fit(X_train_vec, train['is_tv'])"
   ]
  },
  {
   "cell_type": "code",
   "execution_count": 50,
   "metadata": {},
   "outputs": [
    {
     "data": {
      "text/plain": [
       "0.8861607142857143"
      ]
     },
     "execution_count": 50,
     "metadata": {},
     "output_type": "execute_result"
    }
   ],
   "source": [
    "gb.score(X_hold, y_hold)"
   ]
  },
  {
   "cell_type": "code",
   "execution_count": 51,
   "metadata": {},
   "outputs": [],
   "source": [
    "y_pred_gb = gb.predict(X_hold)\n",
    "y_predpr_gb = gb.predict_proba(X_hold)[:, 1]"
   ]
  },
  {
   "cell_type": "code",
   "execution_count": 52,
   "metadata": {},
   "outputs": [],
   "source": [
    "tn, fp, fn, tp = confusion_matrix(y_hold, y_pred_gb).ravel()\n",
    "\n",
    "accuracy = (tn + tp) / (tn + fp + fn + tp)\n",
    "misclassification = 1 - accuracy\n",
    "sensitivity = tp / (tp + fn)\n",
    "specificity = tn / (tn + fp)\n",
    "precision = tp / (tp + fp)"
   ]
  },
  {
   "cell_type": "code",
   "execution_count": 53,
   "metadata": {},
   "outputs": [
    {
     "name": "stdout",
     "output_type": "stream",
     "text": [
      "The Accuracy is: 0.89\n",
      "The Missclassification Rate is: 0.11\n",
      "The Sensitivity/Recall is: 0.96\n",
      "The Specificity is: 0.75\n",
      "The Precision is: 0.87\n"
     ]
    }
   ],
   "source": [
    "print(f'The Accuracy is: {round(accuracy, 2)}')\n",
    "print(f'The Missclassification Rate is: {round(misclassification, 2)}')\n",
    "print(f'The Sensitivity/Recall is: {round(sensitivity, 2)}')\n",
    "print(f'The Specificity is: {round(specificity, 2)}')\n",
    "print(f'The Precision is: {round(precision, 2)}')"
   ]
  },
  {
   "cell_type": "code",
   "execution_count": 54,
   "metadata": {},
   "outputs": [
    {
     "data": {
      "text/plain": [
       "0.96"
      ]
     },
     "execution_count": 54,
     "metadata": {},
     "output_type": "execute_result"
    }
   ],
   "source": [
    "round(roc_auc_score(y_hold, y_predpr_gb), 2)"
   ]
  },
  {
   "cell_type": "code",
   "execution_count": 56,
   "metadata": {},
   "outputs": [
    {
     "data": {
      "text/plain": [
       "[<matplotlib.lines.Line2D at 0x12f26ceb8>]"
      ]
     },
     "execution_count": 56,
     "metadata": {},
     "output_type": "execute_result"
    },
    {
     "data": {
      "image/png": "[encoded data removed]",
      "text/plain": [
       "<Figure size 720x504 with 1 Axes>"
      ]
     },
     "metadata": {
      "needs_background": "light"
     },
     "output_type": "display_data"
    }
   ],
   "source": [
    "fpr_gb, tpr_gb, _ = roc_curve(y_hold, y_predpr_gb)\n",
    "roc_auc_gb = auc(fpr_gb, tpr_gb)\n",
    "\n",
    "plt.figure(figsize = (10, 7))\n",
    "plt.xlim([-0.01, 1.00])\n",
    "plt.ylim([-0.01, 1.01])\n",
    "plt.plot(fpr_gb, tpr_gb, lw=3, label='GB ROC curve (area = {:0.2f})'.format(roc_auc_gb))\n",
    "plt.xlabel('False Positive Rate', fontsize=16)\n",
    "plt.ylabel('True Positive Rate', fontsize=16)\n",
    "plt.title('ROC curve (Gradient Boosting)', fontsize=18)\n",
    "plt.legend(loc='lower right', fontsize=13)\n",
    "plt.plot([0, 1], [0, 1], color='navy', lw=3, linestyle='--')"
   ]
  },
  {
   "cell_type": "code",
   "execution_count": null,
   "metadata": {},
   "outputs": [],
   "source": []
  },
  {
   "cell_type": "code",
   "execution_count": 58,
   "metadata": {},
   "outputs": [
    {
     "name": "stdout",
     "output_type": "stream",
     "text": [
      "Human: office\n",
      "Algorithm: This is related to a Televion show\n",
      "Human: marvel\n",
      "This is related to a Movie\n",
      "Human: shazam\n",
      "This is related to a Movie\n",
      "Human: quit\n",
      "Algorithm: This is related to a Televion show\n"
     ]
    }
   ],
   "source": [
    "def Identifier():\n",
    "    quit = False\n",
    "    while quit == False:\n",
    "        text = str(input('Human: '))\n",
    "        if text == 'quit':\n",
    "            quit=True\n",
    "        predict = pd.DataFrame({'word':[text]})\n",
    "        predict = tvec.transform(predict.word)\n",
    "        predict = pd.DataFrame(predict.todense(),columns=tvec.get_feature_names())\n",
    "        score = gb.predict(predict)\n",
    "        if score[0] == 1:\n",
    "            print('Algorithm: This is related to a Televion show')\n",
    "        elif text == 'quit':\n",
    "            break\n",
    "        else:\n",
    "            print('This is related to a Movie')\n",
    "Identifier()"
   ]
  },
  {
   "cell_type": "code",
   "execution_count": null,
   "metadata": {},
   "outputs": [],
   "source": []
  }
 ],
 "metadata": {
  "kernelspec": {
   "display_name": "Python 3",
   "language": "python",
   "name": "python3"
  },
  "language_info": {
   "codemirror_mode": {
    "name": "ipython",
    "version": 3
   },
   "file_extension": ".py",
   "mimetype": "text/x-python",
   "name": "python",
   "nbconvert_exporter": "python",
   "pygments_lexer": "ipython3",
   "version": "3.7.1"
  }
 },
 "nbformat": 4,
 "nbformat_minor": 2
}
