{
 "cells": [
  {
   "cell_type": "code",
   "execution_count": 2,
   "metadata": {},
   "outputs": [],
   "source": [
    "# Imports libraries\n",
    "import requests\n",
    "import time\n",
    "import pandas as pd"
   ]
  },
  {
   "cell_type": "code",
   "execution_count": null,
   "metadata": {},
   "outputs": [],
   "source": [
    "# retrieves json files from subreddits \n",
    "url_1 = 'https://www.reddit.com/r/movies.json'\n",
    "url_2 = 'https://www.reddit.com/r/television.json'"
   ]
  },
  {
   "cell_type": "code",
   "execution_count": null,
   "metadata": {},
   "outputs": [],
   "source": [
    "# sends a get request to the urls\n",
    "res_1 = requests.get(url_1, headers=headers)\n",
    "res_2 = requests.get(url_2, headers=headers)"
   ]
  },
  {
   "cell_type": "code",
   "execution_count": null,
   "metadata": {},
   "outputs": [],
   "source": [
    "# checks if the get request went through. \n",
    "res_1.status_code"
   ]
  },
  {
   "cell_type": "code",
   "execution_count": null,
   "metadata": {},
   "outputs": [],
   "source": [
    "json_file_1 = res_1.json()\n",
    "json_file_2 = res_2.json()"
   ]
  },
  {
   "cell_type": "code",
   "execution_count": null,
   "metadata": {},
   "outputs": [],
   "source": [
    "# iterates over the json file containing the data from the movie subreddit\n",
    "[post['data']['name'] for post in json_file_1['data']['children']]"
   ]
  },
  {
   "cell_type": "code",
   "execution_count": null,
   "metadata": {},
   "outputs": [],
   "source": [
    "# iterates over the json file containing the data from the tv subreddit\n",
    "[post['data']['name'] for post in json_file_2['data']['children']]"
   ]
  },
  {
   "cell_type": "code",
   "execution_count": null,
   "metadata": {},
   "outputs": [],
   "source": []
  },
  {
   "cell_type": "code",
   "execution_count": null,
   "metadata": {},
   "outputs": [],
   "source": []
  },
  {
   "cell_type": "code",
   "execution_count": 4,
   "metadata": {},
   "outputs": [],
   "source": [
    "# creates a library to pass in as a parameter\n",
    "headers = {'User-agent': 'fbi surveillance'}"
   ]
  },
  {
   "cell_type": "code",
   "execution_count": 5,
   "metadata": {},
   "outputs": [
    {
     "name": "stdout",
     "output_type": "stream",
     "text": [
      "0\n",
      "1\n",
      "2\n",
      "3\n",
      "4\n",
      "5\n",
      "6\n",
      "7\n",
      "8\n",
      "9\n"
     ]
    }
   ],
   "source": [
    "# creates an empty list\n",
    "posts_m = []\n",
    "\n",
    "# sets the starting point (the user) to collect the posts \n",
    "after = None\n",
    "\n",
    "for i in range(10):\n",
    "    print(i)\n",
    "    if not after:\n",
    "        params_1 = {'limit': 100}\n",
    "    else:\n",
    "        params_1 = {'after': after, 'limit': 100}\n",
    "    url_1 = 'https://www.reddit.com/r/movies.json'\n",
    "    res_1 = requests.get(url_1, params = params_1, headers=headers)\n",
    "    if res_1.status_code == 200:\n",
    "        json_file = res_1.json()\n",
    "        posts_m.extend(json_file['data']['children'])\n",
    "        after = json_file['data']['after']\n",
    "    else:\n",
    "        print(res_1.status_code)\n",
    "        break\n",
    "    time.sleep(1) # delays execution for 1 sec"
   ]
  },
  {
   "cell_type": "code",
   "execution_count": 6,
   "metadata": {},
   "outputs": [
    {
     "name": "stdout",
     "output_type": "stream",
     "text": [
      "0\n",
      "1\n",
      "2\n",
      "3\n",
      "4\n",
      "5\n",
      "6\n",
      "7\n",
      "8\n",
      "9\n"
     ]
    }
   ],
   "source": [
    "posts_t = []\n",
    "after = None\n",
    "for i in range(10):\n",
    "    print(i)\n",
    "    if not after:\n",
    "        params_2 = {'limit':100}\n",
    "    else:\n",
    "        params_2 = {'after': after, 'limit':100}\n",
    "    url_2 = 'https://www.reddit.com/r/television.json'\n",
    "    res_2 = requests.get(url_2, params = params_2, headers=headers)\n",
    "    if res_2.status_code == 200:\n",
    "        json_file_2 = res_2.json()\n",
    "        posts_t.extend(json_file_2['data']['children'])\n",
    "        after = json_file_2['data']['after']\n",
    "    else:\n",
    "        print(res_2.status_code)\n",
    "        break\n",
    "    time.sleep(1)"
   ]
  },
  {
   "cell_type": "code",
   "execution_count": 7,
   "metadata": {},
   "outputs": [],
   "source": [
    "movie_posts = []\n",
    "for i in range(812):\n",
    "    list = {}\n",
    "    list['post'] = posts_m[i]['data']['selftext']\n",
    "    list['num_of_comments'] = posts_m[i]['data']['num_comments']\n",
    "    list['title'] = posts_m[i]['data']['title']\n",
    "    list['subreddit'] = posts_m[i]['data']['subreddit']\n",
    "    movie_posts.append(list)\n",
    "    \n",
    "movie_posts\n",
    "df_m = pd.DataFrame(movie_posts)"
   ]
  },
  {
   "cell_type": "code",
   "execution_count": 8,
   "metadata": {},
   "outputs": [],
   "source": [
    "tv_posts = []\n",
    "for i in range(922):\n",
    "    list = {}\n",
    "    list['post'] = posts_t[i]['data']['selftext']\n",
    "    list['num_of_comments'] = posts_t[i]['data']['num_comments']\n",
    "    list['title'] = posts_t[i]['data']['title']\n",
    "    list['subreddit'] = posts_t[i]['data']['subreddit']\n",
    "    tv_posts.append(list)\n",
    "    \n",
    "tv_posts\n",
    "df_t = pd.DataFrame(tv_posts)"
   ]
  },
  {
   "cell_type": "code",
   "execution_count": 9,
   "metadata": {},
   "outputs": [
    {
     "data": {
      "text/html": [
       "<div>\n",
       "<style scoped>\n",
       "    .dataframe tbody tr th:only-of-type {\n",
       "        vertical-align: middle;\n",
       "    }\n",
       "\n",
       "    .dataframe tbody tr th {\n",
       "        vertical-align: top;\n",
       "    }\n",
       "\n",
       "    .dataframe thead th {\n",
       "        text-align: right;\n",
       "    }\n",
       "</style>\n",
       "<table border=\"1\" class=\"dataframe\">\n",
       "  <thead>\n",
       "    <tr style=\"text-align: right;\">\n",
       "      <th></th>\n",
       "      <th>num_of_comments</th>\n",
       "      <th>post</th>\n",
       "      <th>subreddit</th>\n",
       "      <th>title</th>\n",
       "    </tr>\n",
       "  </thead>\n",
       "  <tbody>\n",
       "    <tr>\n",
       "      <th>0</th>\n",
       "      <td>3</td>\n",
       "      <td>[Pet Sematary (2019)](https://www.reddit.com/r...</td>\n",
       "      <td>movies</td>\n",
       "      <td>Official Discussion Weekly Megathread (Pet Sem...</td>\n",
       "    </tr>\n",
       "    <tr>\n",
       "      <th>1</th>\n",
       "      <td>106</td>\n",
       "      <td>We're [Jordan Downey](https://www.jordan-downe...</td>\n",
       "      <td>movies</td>\n",
       "      <td>We made a fantasy horror movie with a 30K budg...</td>\n",
       "    </tr>\n",
       "    <tr>\n",
       "      <th>2</th>\n",
       "      <td>1249</td>\n",
       "      <td></td>\n",
       "      <td>movies</td>\n",
       "      <td>Twenty years ago, an upstart animator named Mi...</td>\n",
       "    </tr>\n",
       "    <tr>\n",
       "      <th>3</th>\n",
       "      <td>921</td>\n",
       "      <td></td>\n",
       "      <td>movies</td>\n",
       "      <td>Kumail Nanjiani to star in 'Any Person, Living...</td>\n",
       "    </tr>\n",
       "    <tr>\n",
       "      <th>4</th>\n",
       "      <td>41</td>\n",
       "      <td></td>\n",
       "      <td>movies</td>\n",
       "      <td>Some Princess Mononoke fan art :)</td>\n",
       "    </tr>\n",
       "  </tbody>\n",
       "</table>\n",
       "</div>"
      ],
      "text/plain": [
       "   num_of_comments                                               post  \\\n",
       "0                3  [Pet Sematary (2019)](https://www.reddit.com/r...   \n",
       "1              106  We're [Jordan Downey](https://www.jordan-downe...   \n",
       "2             1249                                                      \n",
       "3              921                                                      \n",
       "4               41                                                      \n",
       "\n",
       "  subreddit                                              title  \n",
       "0    movies  Official Discussion Weekly Megathread (Pet Sem...  \n",
       "1    movies  We made a fantasy horror movie with a 30K budg...  \n",
       "2    movies  Twenty years ago, an upstart animator named Mi...  \n",
       "3    movies  Kumail Nanjiani to star in 'Any Person, Living...  \n",
       "4    movies                  Some Princess Mononoke fan art :)  "
      ]
     },
     "execution_count": 9,
     "metadata": {},
     "output_type": "execute_result"
    }
   ],
   "source": [
    "df_m.head()"
   ]
  },
  {
   "cell_type": "markdown",
   "metadata": {},
   "source": [
    "### Feature Engineering"
   ]
  },
  {
   "cell_type": "code",
   "execution_count": 10,
   "metadata": {},
   "outputs": [],
   "source": [
    "# combines the `post` column with the `title` column\n",
    "# into a new column called `posts_combined`\n",
    "if type(df_m['post']) ==str:\n",
    "    df_m['posts_combined']= df_m['post'] +'\\n'+ df_m['title'] # where posts is not empty\n",
    "    \n",
    "else:\n",
    "    df_m['posts_combined']= df_m['title'] # where post is empty"
   ]
  },
  {
   "cell_type": "code",
   "execution_count": 11,
   "metadata": {},
   "outputs": [],
   "source": [
    "#repeats the above operation for the tv subreddits\n",
    "if type(df_t['post']) ==str:\n",
    "    df_t['posts_combined']= df_t['post'] +'\\n'+ df_t['title']\n",
    "    \n",
    "else:\n",
    "    df_t['posts_combined']= df_t['title']"
   ]
  },
  {
   "cell_type": "code",
   "execution_count": 12,
   "metadata": {},
   "outputs": [],
   "source": [
    "df_3 = [df_m, df_t]"
   ]
  },
  {
   "cell_type": "code",
   "execution_count": 13,
   "metadata": {},
   "outputs": [],
   "source": [
    "# stacks the movie and tx dataframes\n",
    "df = pd.concat(df_3, sort=False).reset_index(drop=True)"
   ]
  },
  {
   "cell_type": "code",
   "execution_count": 14,
   "metadata": {},
   "outputs": [
    {
     "data": {
      "text/html": [
       "<div>\n",
       "<style scoped>\n",
       "    .dataframe tbody tr th:only-of-type {\n",
       "        vertical-align: middle;\n",
       "    }\n",
       "\n",
       "    .dataframe tbody tr th {\n",
       "        vertical-align: top;\n",
       "    }\n",
       "\n",
       "    .dataframe thead th {\n",
       "        text-align: right;\n",
       "    }\n",
       "</style>\n",
       "<table border=\"1\" class=\"dataframe\">\n",
       "  <thead>\n",
       "    <tr style=\"text-align: right;\">\n",
       "      <th></th>\n",
       "      <th>num_of_comments</th>\n",
       "      <th>post</th>\n",
       "      <th>subreddit</th>\n",
       "      <th>title</th>\n",
       "      <th>posts_combined</th>\n",
       "    </tr>\n",
       "  </thead>\n",
       "  <tbody>\n",
       "    <tr>\n",
       "      <th>0</th>\n",
       "      <td>3</td>\n",
       "      <td>[Pet Sematary (2019)](https://www.reddit.com/r...</td>\n",
       "      <td>movies</td>\n",
       "      <td>Official Discussion Weekly Megathread (Pet Sem...</td>\n",
       "      <td>Official Discussion Weekly Megathread (Pet Sem...</td>\n",
       "    </tr>\n",
       "    <tr>\n",
       "      <th>1</th>\n",
       "      <td>106</td>\n",
       "      <td>We're [Jordan Downey](https://www.jordan-downe...</td>\n",
       "      <td>movies</td>\n",
       "      <td>We made a fantasy horror movie with a 30K budg...</td>\n",
       "      <td>We made a fantasy horror movie with a 30K budg...</td>\n",
       "    </tr>\n",
       "    <tr>\n",
       "      <th>2</th>\n",
       "      <td>1249</td>\n",
       "      <td></td>\n",
       "      <td>movies</td>\n",
       "      <td>Twenty years ago, an upstart animator named Mi...</td>\n",
       "      <td>Twenty years ago, an upstart animator named Mi...</td>\n",
       "    </tr>\n",
       "    <tr>\n",
       "      <th>3</th>\n",
       "      <td>921</td>\n",
       "      <td></td>\n",
       "      <td>movies</td>\n",
       "      <td>Kumail Nanjiani to star in 'Any Person, Living...</td>\n",
       "      <td>Kumail Nanjiani to star in 'Any Person, Living...</td>\n",
       "    </tr>\n",
       "    <tr>\n",
       "      <th>4</th>\n",
       "      <td>41</td>\n",
       "      <td></td>\n",
       "      <td>movies</td>\n",
       "      <td>Some Princess Mononoke fan art :)</td>\n",
       "      <td>Some Princess Mononoke fan art :)</td>\n",
       "    </tr>\n",
       "  </tbody>\n",
       "</table>\n",
       "</div>"
      ],
      "text/plain": [
       "   num_of_comments                                               post  \\\n",
       "0                3  [Pet Sematary (2019)](https://www.reddit.com/r...   \n",
       "1              106  We're [Jordan Downey](https://www.jordan-downe...   \n",
       "2             1249                                                      \n",
       "3              921                                                      \n",
       "4               41                                                      \n",
       "\n",
       "  subreddit                                              title  \\\n",
       "0    movies  Official Discussion Weekly Megathread (Pet Sem...   \n",
       "1    movies  We made a fantasy horror movie with a 30K budg...   \n",
       "2    movies  Twenty years ago, an upstart animator named Mi...   \n",
       "3    movies  Kumail Nanjiani to star in 'Any Person, Living...   \n",
       "4    movies                  Some Princess Mononoke fan art :)   \n",
       "\n",
       "                                      posts_combined  \n",
       "0  Official Discussion Weekly Megathread (Pet Sem...  \n",
       "1  We made a fantasy horror movie with a 30K budg...  \n",
       "2  Twenty years ago, an upstart animator named Mi...  \n",
       "3  Kumail Nanjiani to star in 'Any Person, Living...  \n",
       "4                  Some Princess Mononoke fan art :)  "
      ]
     },
     "execution_count": 14,
     "metadata": {},
     "output_type": "execute_result"
    }
   ],
   "source": [
    "df.head()"
   ]
  },
  {
   "cell_type": "code",
   "execution_count": 15,
   "metadata": {},
   "outputs": [],
   "source": [
    "reddit_3 = df[['posts_combined', 'subreddit']]"
   ]
  },
  {
   "cell_type": "code",
   "execution_count": 16,
   "metadata": {},
   "outputs": [
    {
     "name": "stderr",
     "output_type": "stream",
     "text": [
      "/anaconda3/lib/python3.7/site-packages/ipykernel_launcher.py:1: SettingWithCopyWarning: \n",
      "A value is trying to be set on a copy of a slice from a DataFrame.\n",
      "Try using .loc[row_indexer,col_indexer] = value instead\n",
      "\n",
      "See the caveats in the documentation: http://pandas.pydata.org/pandas-docs/stable/indexing.html#indexing-view-versus-copy\n",
      "  \"\"\"Entry point for launching an IPython kernel.\n"
     ]
    }
   ],
   "source": [
    "reddit_3['is_tv'] = reddit_3['subreddit'].map({'movies': 0, 'television': 1})"
   ]
  },
  {
   "cell_type": "code",
   "execution_count": 18,
   "metadata": {},
   "outputs": [
    {
     "data": {
      "text/html": [
       "<div>\n",
       "<style scoped>\n",
       "    .dataframe tbody tr th:only-of-type {\n",
       "        vertical-align: middle;\n",
       "    }\n",
       "\n",
       "    .dataframe tbody tr th {\n",
       "        vertical-align: top;\n",
       "    }\n",
       "\n",
       "    .dataframe thead th {\n",
       "        text-align: right;\n",
       "    }\n",
       "</style>\n",
       "<table border=\"1\" class=\"dataframe\">\n",
       "  <thead>\n",
       "    <tr style=\"text-align: right;\">\n",
       "      <th></th>\n",
       "      <th>posts_combined</th>\n",
       "      <th>subreddit</th>\n",
       "      <th>is_tv</th>\n",
       "    </tr>\n",
       "  </thead>\n",
       "  <tbody>\n",
       "    <tr>\n",
       "      <th>1729</th>\n",
       "      <td>Arrested Development - Lucile is in denial</td>\n",
       "      <td>television</td>\n",
       "      <td>1</td>\n",
       "    </tr>\n",
       "    <tr>\n",
       "      <th>1730</th>\n",
       "      <td>David Blaine Under NYPD Investigation Over Sex...</td>\n",
       "      <td>television</td>\n",
       "      <td>1</td>\n",
       "    </tr>\n",
       "    <tr>\n",
       "      <th>1731</th>\n",
       "      <td>Amanda Bears and Ed ONeil interviewed separate...</td>\n",
       "      <td>television</td>\n",
       "      <td>1</td>\n",
       "    </tr>\n",
       "    <tr>\n",
       "      <th>1732</th>\n",
       "      <td>[Full Frontal with Samantha Bee] S04E07 - \"Apr...</td>\n",
       "      <td>television</td>\n",
       "      <td>1</td>\n",
       "    </tr>\n",
       "    <tr>\n",
       "      <th>1733</th>\n",
       "      <td>\"The OA is strange... We’re treated to unflinc...</td>\n",
       "      <td>television</td>\n",
       "      <td>1</td>\n",
       "    </tr>\n",
       "  </tbody>\n",
       "</table>\n",
       "</div>"
      ],
      "text/plain": [
       "                                         posts_combined   subreddit  is_tv\n",
       "1729         Arrested Development - Lucile is in denial  television      1\n",
       "1730  David Blaine Under NYPD Investigation Over Sex...  television      1\n",
       "1731  Amanda Bears and Ed ONeil interviewed separate...  television      1\n",
       "1732  [Full Frontal with Samantha Bee] S04E07 - \"Apr...  television      1\n",
       "1733  \"The OA is strange... We’re treated to unflinc...  television      1"
      ]
     },
     "execution_count": 18,
     "metadata": {},
     "output_type": "execute_result"
    }
   ],
   "source": [
    "reddit_3.tail()"
   ]
  },
  {
   "cell_type": "code",
   "execution_count": 19,
   "metadata": {},
   "outputs": [],
   "source": [
    "reddit_3.to_csv('reddit_post_3.csv', index=False)"
   ]
  },
  {
   "cell_type": "code",
   "execution_count": 39,
   "metadata": {},
   "outputs": [],
   "source": [
    "# imports previous datasets collected\n",
    "posts_1 = pd.read_csv('reddit_post_3.csv')\n",
    "posts_2 = pd.read_csv('reddit_post_train.csv')\n",
    "posts_3 = pd.read_csv('reddit_posts.csv')"
   ]
  },
  {
   "cell_type": "code",
   "execution_count": 40,
   "metadata": {},
   "outputs": [
    {
     "data": {
      "text/html": [
       "<div>\n",
       "<style scoped>\n",
       "    .dataframe tbody tr th:only-of-type {\n",
       "        vertical-align: middle;\n",
       "    }\n",
       "\n",
       "    .dataframe tbody tr th {\n",
       "        vertical-align: top;\n",
       "    }\n",
       "\n",
       "    .dataframe thead th {\n",
       "        text-align: right;\n",
       "    }\n",
       "</style>\n",
       "<table border=\"1\" class=\"dataframe\">\n",
       "  <thead>\n",
       "    <tr style=\"text-align: right;\">\n",
       "      <th></th>\n",
       "      <th>posts_combined</th>\n",
       "      <th>subreddit</th>\n",
       "      <th>is_tv</th>\n",
       "    </tr>\n",
       "  </thead>\n",
       "  <tbody>\n",
       "    <tr>\n",
       "      <th>0</th>\n",
       "      <td>Official Discussion Weekly Megathread (Pet Sem...</td>\n",
       "      <td>movies</td>\n",
       "      <td>0</td>\n",
       "    </tr>\n",
       "    <tr>\n",
       "      <th>1</th>\n",
       "      <td>We made a fantasy horror movie with a 30K budg...</td>\n",
       "      <td>movies</td>\n",
       "      <td>0</td>\n",
       "    </tr>\n",
       "    <tr>\n",
       "      <th>2</th>\n",
       "      <td>Twenty years ago, an upstart animator named Mi...</td>\n",
       "      <td>movies</td>\n",
       "      <td>0</td>\n",
       "    </tr>\n",
       "    <tr>\n",
       "      <th>3</th>\n",
       "      <td>Kumail Nanjiani to star in 'Any Person, Living...</td>\n",
       "      <td>movies</td>\n",
       "      <td>0</td>\n",
       "    </tr>\n",
       "    <tr>\n",
       "      <th>4</th>\n",
       "      <td>Some Princess Mononoke fan art :)</td>\n",
       "      <td>movies</td>\n",
       "      <td>0</td>\n",
       "    </tr>\n",
       "  </tbody>\n",
       "</table>\n",
       "</div>"
      ],
      "text/plain": [
       "                                      posts_combined subreddit  is_tv\n",
       "0  Official Discussion Weekly Megathread (Pet Sem...    movies      0\n",
       "1  We made a fantasy horror movie with a 30K budg...    movies      0\n",
       "2  Twenty years ago, an upstart animator named Mi...    movies      0\n",
       "3  Kumail Nanjiani to star in 'Any Person, Living...    movies      0\n",
       "4                  Some Princess Mononoke fan art :)    movies      0"
      ]
     },
     "execution_count": 40,
     "metadata": {},
     "output_type": "execute_result"
    }
   ],
   "source": [
    "posts_1.head()"
   ]
  },
  {
   "cell_type": "code",
   "execution_count": 57,
   "metadata": {},
   "outputs": [
    {
     "data": {
      "text/html": [
       "<div>\n",
       "<style scoped>\n",
       "    .dataframe tbody tr th:only-of-type {\n",
       "        vertical-align: middle;\n",
       "    }\n",
       "\n",
       "    .dataframe tbody tr th {\n",
       "        vertical-align: top;\n",
       "    }\n",
       "\n",
       "    .dataframe thead th {\n",
       "        text-align: right;\n",
       "    }\n",
       "</style>\n",
       "<table border=\"1\" class=\"dataframe\">\n",
       "  <thead>\n",
       "    <tr style=\"text-align: right;\">\n",
       "      <th></th>\n",
       "      <th>posts_combined</th>\n",
       "      <th>subreddit</th>\n",
       "      <th>is_tv</th>\n",
       "    </tr>\n",
       "  </thead>\n",
       "  <tbody>\n",
       "    <tr>\n",
       "      <th>1538</th>\n",
       "      <td>'Crime Story' Set the Stage for the Last 3 Dec...</td>\n",
       "      <td>television</td>\n",
       "      <td>1</td>\n",
       "    </tr>\n",
       "    <tr>\n",
       "      <th>1539</th>\n",
       "      <td>Welcome to the Private Police | A Bit of Fry a...</td>\n",
       "      <td>television</td>\n",
       "      <td>1</td>\n",
       "    </tr>\n",
       "    <tr>\n",
       "      <th>1540</th>\n",
       "      <td>Baptiste 1x2</td>\n",
       "      <td>television</td>\n",
       "      <td>1</td>\n",
       "    </tr>\n",
       "    <tr>\n",
       "      <th>1541</th>\n",
       "      <td>PBS starts same-time streaming in April as OTT...</td>\n",
       "      <td>television</td>\n",
       "      <td>1</td>\n",
       "    </tr>\n",
       "    <tr>\n",
       "      <th>1542</th>\n",
       "      <td>Review w/Forrest MacNeil - Color Copier</td>\n",
       "      <td>television</td>\n",
       "      <td>1</td>\n",
       "    </tr>\n",
       "  </tbody>\n",
       "</table>\n",
       "</div>"
      ],
      "text/plain": [
       "                                         posts_combined   subreddit  is_tv\n",
       "1538  'Crime Story' Set the Stage for the Last 3 Dec...  television      1\n",
       "1539  Welcome to the Private Police | A Bit of Fry a...  television      1\n",
       "1540                                       Baptiste 1x2  television      1\n",
       "1541  PBS starts same-time streaming in April as OTT...  television      1\n",
       "1542            Review w/Forrest MacNeil - Color Copier  television      1"
      ]
     },
     "execution_count": 57,
     "metadata": {},
     "output_type": "execute_result"
    }
   ],
   "source": [
    "posts_1.tail()"
   ]
  },
  {
   "cell_type": "code",
   "execution_count": 41,
   "metadata": {},
   "outputs": [
    {
     "data": {
      "text/html": [
       "<div>\n",
       "<style scoped>\n",
       "    .dataframe tbody tr th:only-of-type {\n",
       "        vertical-align: middle;\n",
       "    }\n",
       "\n",
       "    .dataframe tbody tr th {\n",
       "        vertical-align: top;\n",
       "    }\n",
       "\n",
       "    .dataframe thead th {\n",
       "        text-align: right;\n",
       "    }\n",
       "</style>\n",
       "<table border=\"1\" class=\"dataframe\">\n",
       "  <thead>\n",
       "    <tr style=\"text-align: right;\">\n",
       "      <th></th>\n",
       "      <th>posts_combined</th>\n",
       "      <th>subreddit</th>\n",
       "      <th>is_tv</th>\n",
       "    </tr>\n",
       "  </thead>\n",
       "  <tbody>\n",
       "    <tr>\n",
       "      <th>0</th>\n",
       "      <td>Poster for “Joker” with Joaquin Phoenix</td>\n",
       "      <td>movies</td>\n",
       "      <td>0</td>\n",
       "    </tr>\n",
       "    <tr>\n",
       "      <th>1</th>\n",
       "      <td>Detective Pikachu (2019) | Official Chinese Po...</td>\n",
       "      <td>movies</td>\n",
       "      <td>0</td>\n",
       "    </tr>\n",
       "    <tr>\n",
       "      <th>2</th>\n",
       "      <td>Lindsay Ellis' video essay on the making of Pe...</td>\n",
       "      <td>movies</td>\n",
       "      <td>0</td>\n",
       "    </tr>\n",
       "    <tr>\n",
       "      <th>3</th>\n",
       "      <td>'Superbad' to the Oscars: Jonah Hill's evoluti...</td>\n",
       "      <td>movies</td>\n",
       "      <td>0</td>\n",
       "    </tr>\n",
       "    <tr>\n",
       "      <th>4</th>\n",
       "      <td>Extremely Wicked, Shockingly Evil and Vile | O...</td>\n",
       "      <td>movies</td>\n",
       "      <td>0</td>\n",
       "    </tr>\n",
       "  </tbody>\n",
       "</table>\n",
       "</div>"
      ],
      "text/plain": [
       "                                      posts_combined subreddit  is_tv\n",
       "0            Poster for “Joker” with Joaquin Phoenix    movies      0\n",
       "1  Detective Pikachu (2019) | Official Chinese Po...    movies      0\n",
       "2  Lindsay Ellis' video essay on the making of Pe...    movies      0\n",
       "3  'Superbad' to the Oscars: Jonah Hill's evoluti...    movies      0\n",
       "4  Extremely Wicked, Shockingly Evil and Vile | O...    movies      0"
      ]
     },
     "execution_count": 41,
     "metadata": {},
     "output_type": "execute_result"
    }
   ],
   "source": [
    "posts_2.head()"
   ]
  },
  {
   "cell_type": "code",
   "execution_count": 58,
   "metadata": {},
   "outputs": [
    {
     "data": {
      "text/html": [
       "<div>\n",
       "<style scoped>\n",
       "    .dataframe tbody tr th:only-of-type {\n",
       "        vertical-align: middle;\n",
       "    }\n",
       "\n",
       "    .dataframe tbody tr th {\n",
       "        vertical-align: top;\n",
       "    }\n",
       "\n",
       "    .dataframe thead th {\n",
       "        text-align: right;\n",
       "    }\n",
       "</style>\n",
       "<table border=\"1\" class=\"dataframe\">\n",
       "  <thead>\n",
       "    <tr style=\"text-align: right;\">\n",
       "      <th></th>\n",
       "      <th>posts_combined</th>\n",
       "      <th>subreddit</th>\n",
       "      <th>is_tv</th>\n",
       "    </tr>\n",
       "  </thead>\n",
       "  <tbody>\n",
       "    <tr>\n",
       "      <th>1528</th>\n",
       "      <td>With Fox Deal Closed, Disney Now Has TV Studio...</td>\n",
       "      <td>television</td>\n",
       "      <td>1</td>\n",
       "    </tr>\n",
       "    <tr>\n",
       "      <th>1529</th>\n",
       "      <td>Just started watching Doom Patrol and i am lov...</td>\n",
       "      <td>television</td>\n",
       "      <td>1</td>\n",
       "    </tr>\n",
       "    <tr>\n",
       "      <th>1530</th>\n",
       "      <td>All My Love for \"Love Death + Robots\"</td>\n",
       "      <td>television</td>\n",
       "      <td>1</td>\n",
       "    </tr>\n",
       "    <tr>\n",
       "      <th>1531</th>\n",
       "      <td>How Netflix Uses Technology: A Look Behind the...</td>\n",
       "      <td>television</td>\n",
       "      <td>1</td>\n",
       "    </tr>\n",
       "    <tr>\n",
       "      <th>1532</th>\n",
       "      <td>Netflix is experimenting with different episod...</td>\n",
       "      <td>television</td>\n",
       "      <td>1</td>\n",
       "    </tr>\n",
       "  </tbody>\n",
       "</table>\n",
       "</div>"
      ],
      "text/plain": [
       "                                         posts_combined   subreddit  is_tv\n",
       "1528  With Fox Deal Closed, Disney Now Has TV Studio...  television      1\n",
       "1529  Just started watching Doom Patrol and i am lov...  television      1\n",
       "1530              All My Love for \"Love Death + Robots\"  television      1\n",
       "1531  How Netflix Uses Technology: A Look Behind the...  television      1\n",
       "1532  Netflix is experimenting with different episod...  television      1"
      ]
     },
     "execution_count": 58,
     "metadata": {},
     "output_type": "execute_result"
    }
   ],
   "source": [
    "posts_2.tail()"
   ]
  },
  {
   "cell_type": "code",
   "execution_count": 42,
   "metadata": {},
   "outputs": [
    {
     "data": {
      "text/html": [
       "<div>\n",
       "<style scoped>\n",
       "    .dataframe tbody tr th:only-of-type {\n",
       "        vertical-align: middle;\n",
       "    }\n",
       "\n",
       "    .dataframe tbody tr th {\n",
       "        vertical-align: top;\n",
       "    }\n",
       "\n",
       "    .dataframe thead th {\n",
       "        text-align: right;\n",
       "    }\n",
       "</style>\n",
       "<table border=\"1\" class=\"dataframe\">\n",
       "  <thead>\n",
       "    <tr style=\"text-align: right;\">\n",
       "      <th></th>\n",
       "      <th>num_of_comments</th>\n",
       "      <th>post</th>\n",
       "      <th>subreddit</th>\n",
       "      <th>title</th>\n",
       "      <th>posts_combined</th>\n",
       "    </tr>\n",
       "  </thead>\n",
       "  <tbody>\n",
       "    <tr>\n",
       "      <th>0</th>\n",
       "      <td>36</td>\n",
       "      <td>Hey Reddit! Trevor Stevens here to talk about ...</td>\n",
       "      <td>movies</td>\n",
       "      <td>Hi, I’m Trevor Stevens. Director of the film, ...</td>\n",
       "      <td>Hi, I’m Trevor Stevens. Director of the film, ...</td>\n",
       "    </tr>\n",
       "    <tr>\n",
       "      <th>1</th>\n",
       "      <td>1231</td>\n",
       "      <td>NaN</td>\n",
       "      <td>movies</td>\n",
       "      <td>David Harbour Cast In Scarlett Johansson’s ‘Bl...</td>\n",
       "      <td>David Harbour Cast In Scarlett Johansson’s ‘Bl...</td>\n",
       "    </tr>\n",
       "    <tr>\n",
       "      <th>2</th>\n",
       "      <td>8457</td>\n",
       "      <td>NaN</td>\n",
       "      <td>movies</td>\n",
       "      <td>JOKER - Teaser Trailer - In Theaters October 4</td>\n",
       "      <td>JOKER - Teaser Trailer - In Theaters October 4</td>\n",
       "    </tr>\n",
       "    <tr>\n",
       "      <th>3</th>\n",
       "      <td>31</td>\n",
       "      <td>NaN</td>\n",
       "      <td>movies</td>\n",
       "      <td>Guillermo del Toro Expands the World of ‘Pan’s...</td>\n",
       "      <td>Guillermo del Toro Expands the World of ‘Pan’s...</td>\n",
       "    </tr>\n",
       "    <tr>\n",
       "      <th>4</th>\n",
       "      <td>181</td>\n",
       "      <td>NaN</td>\n",
       "      <td>movies</td>\n",
       "      <td>Walt Disney Studios 2019 Release Schedule Unve...</td>\n",
       "      <td>Walt Disney Studios 2019 Release Schedule Unve...</td>\n",
       "    </tr>\n",
       "  </tbody>\n",
       "</table>\n",
       "</div>"
      ],
      "text/plain": [
       "   num_of_comments                                               post  \\\n",
       "0               36  Hey Reddit! Trevor Stevens here to talk about ...   \n",
       "1             1231                                                NaN   \n",
       "2             8457                                                NaN   \n",
       "3               31                                                NaN   \n",
       "4              181                                                NaN   \n",
       "\n",
       "  subreddit                                              title  \\\n",
       "0    movies  Hi, I’m Trevor Stevens. Director of the film, ...   \n",
       "1    movies  David Harbour Cast In Scarlett Johansson’s ‘Bl...   \n",
       "2    movies     JOKER - Teaser Trailer - In Theaters October 4   \n",
       "3    movies  Guillermo del Toro Expands the World of ‘Pan’s...   \n",
       "4    movies  Walt Disney Studios 2019 Release Schedule Unve...   \n",
       "\n",
       "                                      posts_combined  \n",
       "0  Hi, I’m Trevor Stevens. Director of the film, ...  \n",
       "1  David Harbour Cast In Scarlett Johansson’s ‘Bl...  \n",
       "2     JOKER - Teaser Trailer - In Theaters October 4  \n",
       "3  Guillermo del Toro Expands the World of ‘Pan’s...  \n",
       "4  Walt Disney Studios 2019 Release Schedule Unve...  "
      ]
     },
     "execution_count": 42,
     "metadata": {},
     "output_type": "execute_result"
    }
   ],
   "source": [
    "posts_3.head()"
   ]
  },
  {
   "cell_type": "code",
   "execution_count": 47,
   "metadata": {},
   "outputs": [],
   "source": [
    "posts_4 = posts_3[['subreddit', 'posts_combined']]"
   ]
  },
  {
   "cell_type": "code",
   "execution_count": 59,
   "metadata": {},
   "outputs": [
    {
     "data": {
      "text/html": [
       "<div>\n",
       "<style scoped>\n",
       "    .dataframe tbody tr th:only-of-type {\n",
       "        vertical-align: middle;\n",
       "    }\n",
       "\n",
       "    .dataframe tbody tr th {\n",
       "        vertical-align: top;\n",
       "    }\n",
       "\n",
       "    .dataframe thead th {\n",
       "        text-align: right;\n",
       "    }\n",
       "</style>\n",
       "<table border=\"1\" class=\"dataframe\">\n",
       "  <thead>\n",
       "    <tr style=\"text-align: right;\">\n",
       "      <th></th>\n",
       "      <th>subreddit</th>\n",
       "      <th>posts_combined</th>\n",
       "    </tr>\n",
       "  </thead>\n",
       "  <tbody>\n",
       "    <tr>\n",
       "      <th>0</th>\n",
       "      <td>movies</td>\n",
       "      <td>Hi, I’m Trevor Stevens. Director of the film, ...</td>\n",
       "    </tr>\n",
       "    <tr>\n",
       "      <th>1</th>\n",
       "      <td>movies</td>\n",
       "      <td>David Harbour Cast In Scarlett Johansson’s ‘Bl...</td>\n",
       "    </tr>\n",
       "    <tr>\n",
       "      <th>2</th>\n",
       "      <td>movies</td>\n",
       "      <td>JOKER - Teaser Trailer - In Theaters October 4</td>\n",
       "    </tr>\n",
       "    <tr>\n",
       "      <th>3</th>\n",
       "      <td>movies</td>\n",
       "      <td>Guillermo del Toro Expands the World of ‘Pan’s...</td>\n",
       "    </tr>\n",
       "    <tr>\n",
       "      <th>4</th>\n",
       "      <td>movies</td>\n",
       "      <td>Walt Disney Studios 2019 Release Schedule Unve...</td>\n",
       "    </tr>\n",
       "  </tbody>\n",
       "</table>\n",
       "</div>"
      ],
      "text/plain": [
       "  subreddit                                     posts_combined\n",
       "0    movies  Hi, I’m Trevor Stevens. Director of the film, ...\n",
       "1    movies  David Harbour Cast In Scarlett Johansson’s ‘Bl...\n",
       "2    movies     JOKER - Teaser Trailer - In Theaters October 4\n",
       "3    movies  Guillermo del Toro Expands the World of ‘Pan’s...\n",
       "4    movies  Walt Disney Studios 2019 Release Schedule Unve..."
      ]
     },
     "execution_count": 59,
     "metadata": {},
     "output_type": "execute_result"
    }
   ],
   "source": [
    "posts_4.head()"
   ]
  },
  {
   "cell_type": "code",
   "execution_count": 60,
   "metadata": {},
   "outputs": [
    {
     "name": "stderr",
     "output_type": "stream",
     "text": [
      "/anaconda3/lib/python3.7/site-packages/ipykernel_launcher.py:1: SettingWithCopyWarning: \n",
      "A value is trying to be set on a copy of a slice from a DataFrame.\n",
      "Try using .loc[row_indexer,col_indexer] = value instead\n",
      "\n",
      "See the caveats in the documentation: http://pandas.pydata.org/pandas-docs/stable/indexing.html#indexing-view-versus-copy\n",
      "  \"\"\"Entry point for launching an IPython kernel.\n"
     ]
    }
   ],
   "source": [
    "posts_4['is_tv'] = posts_4['subreddit'].map({'movies': 0, 'television': 1})"
   ]
  },
  {
   "cell_type": "code",
   "execution_count": 61,
   "metadata": {},
   "outputs": [
    {
     "data": {
      "text/html": [
       "<div>\n",
       "<style scoped>\n",
       "    .dataframe tbody tr th:only-of-type {\n",
       "        vertical-align: middle;\n",
       "    }\n",
       "\n",
       "    .dataframe tbody tr th {\n",
       "        vertical-align: top;\n",
       "    }\n",
       "\n",
       "    .dataframe thead th {\n",
       "        text-align: right;\n",
       "    }\n",
       "</style>\n",
       "<table border=\"1\" class=\"dataframe\">\n",
       "  <thead>\n",
       "    <tr style=\"text-align: right;\">\n",
       "      <th></th>\n",
       "      <th>subreddit</th>\n",
       "      <th>posts_combined</th>\n",
       "      <th>is_tv</th>\n",
       "    </tr>\n",
       "  </thead>\n",
       "  <tbody>\n",
       "    <tr>\n",
       "      <th>0</th>\n",
       "      <td>movies</td>\n",
       "      <td>Hi, I’m Trevor Stevens. Director of the film, ...</td>\n",
       "      <td>0</td>\n",
       "    </tr>\n",
       "    <tr>\n",
       "      <th>1</th>\n",
       "      <td>movies</td>\n",
       "      <td>David Harbour Cast In Scarlett Johansson’s ‘Bl...</td>\n",
       "      <td>0</td>\n",
       "    </tr>\n",
       "    <tr>\n",
       "      <th>2</th>\n",
       "      <td>movies</td>\n",
       "      <td>JOKER - Teaser Trailer - In Theaters October 4</td>\n",
       "      <td>0</td>\n",
       "    </tr>\n",
       "    <tr>\n",
       "      <th>3</th>\n",
       "      <td>movies</td>\n",
       "      <td>Guillermo del Toro Expands the World of ‘Pan’s...</td>\n",
       "      <td>0</td>\n",
       "    </tr>\n",
       "    <tr>\n",
       "      <th>4</th>\n",
       "      <td>movies</td>\n",
       "      <td>Walt Disney Studios 2019 Release Schedule Unve...</td>\n",
       "      <td>0</td>\n",
       "    </tr>\n",
       "  </tbody>\n",
       "</table>\n",
       "</div>"
      ],
      "text/plain": [
       "  subreddit                                     posts_combined  is_tv\n",
       "0    movies  Hi, I’m Trevor Stevens. Director of the film, ...      0\n",
       "1    movies  David Harbour Cast In Scarlett Johansson’s ‘Bl...      0\n",
       "2    movies     JOKER - Teaser Trailer - In Theaters October 4      0\n",
       "3    movies  Guillermo del Toro Expands the World of ‘Pan’s...      0\n",
       "4    movies  Walt Disney Studios 2019 Release Schedule Unve...      0"
      ]
     },
     "execution_count": 61,
     "metadata": {},
     "output_type": "execute_result"
    }
   ],
   "source": [
    "posts_4.head()"
   ]
  },
  {
   "cell_type": "code",
   "execution_count": 62,
   "metadata": {},
   "outputs": [
    {
     "data": {
      "text/html": [
       "<div>\n",
       "<style scoped>\n",
       "    .dataframe tbody tr th:only-of-type {\n",
       "        vertical-align: middle;\n",
       "    }\n",
       "\n",
       "    .dataframe tbody tr th {\n",
       "        vertical-align: top;\n",
       "    }\n",
       "\n",
       "    .dataframe thead th {\n",
       "        text-align: right;\n",
       "    }\n",
       "</style>\n",
       "<table border=\"1\" class=\"dataframe\">\n",
       "  <thead>\n",
       "    <tr style=\"text-align: right;\">\n",
       "      <th></th>\n",
       "      <th>subreddit</th>\n",
       "      <th>posts_combined</th>\n",
       "      <th>is_tv</th>\n",
       "    </tr>\n",
       "  </thead>\n",
       "  <tbody>\n",
       "    <tr>\n",
       "      <th>1111</th>\n",
       "      <td>television</td>\n",
       "      <td>Joey King is amazing in “The Act”</td>\n",
       "      <td>1</td>\n",
       "    </tr>\n",
       "    <tr>\n",
       "      <th>1112</th>\n",
       "      <td>television</td>\n",
       "      <td>How many streaming services do you subscribe to?</td>\n",
       "      <td>1</td>\n",
       "    </tr>\n",
       "    <tr>\n",
       "      <th>1113</th>\n",
       "      <td>television</td>\n",
       "      <td>Cary Joji Fukunaga (\"Maniac\") Explains Why TV ...</td>\n",
       "      <td>1</td>\n",
       "    </tr>\n",
       "    <tr>\n",
       "      <th>1114</th>\n",
       "      <td>television</td>\n",
       "      <td>Ryan Murphy’s ‘The Politician’ to Premiere on ...</td>\n",
       "      <td>1</td>\n",
       "    </tr>\n",
       "    <tr>\n",
       "      <th>1115</th>\n",
       "      <td>television</td>\n",
       "      <td>How can I watch Game of Thrones season 8 LIVE?</td>\n",
       "      <td>1</td>\n",
       "    </tr>\n",
       "  </tbody>\n",
       "</table>\n",
       "</div>"
      ],
      "text/plain": [
       "       subreddit                                     posts_combined  is_tv\n",
       "1111  television                  Joey King is amazing in “The Act”      1\n",
       "1112  television   How many streaming services do you subscribe to?      1\n",
       "1113  television  Cary Joji Fukunaga (\"Maniac\") Explains Why TV ...      1\n",
       "1114  television  Ryan Murphy’s ‘The Politician’ to Premiere on ...      1\n",
       "1115  television     How can I watch Game of Thrones season 8 LIVE?      1"
      ]
     },
     "execution_count": 62,
     "metadata": {},
     "output_type": "execute_result"
    }
   ],
   "source": [
    "posts_4.tail()"
   ]
  },
  {
   "cell_type": "code",
   "execution_count": 48,
   "metadata": {},
   "outputs": [],
   "source": [
    "posts_1.drop_duplicates(inplace=True)"
   ]
  },
  {
   "cell_type": "code",
   "execution_count": 49,
   "metadata": {},
   "outputs": [],
   "source": [
    "posts_2.drop_duplicates(inplace=True)"
   ]
  },
  {
   "cell_type": "code",
   "execution_count": 63,
   "metadata": {},
   "outputs": [
    {
     "name": "stderr",
     "output_type": "stream",
     "text": [
      "/anaconda3/lib/python3.7/site-packages/ipykernel_launcher.py:1: SettingWithCopyWarning: \n",
      "A value is trying to be set on a copy of a slice from a DataFrame\n",
      "\n",
      "See the caveats in the documentation: http://pandas.pydata.org/pandas-docs/stable/indexing.html#indexing-view-versus-copy\n",
      "  \"\"\"Entry point for launching an IPython kernel.\n"
     ]
    }
   ],
   "source": [
    "posts_4.drop_duplicates(inplace=True)"
   ]
  },
  {
   "cell_type": "code",
   "execution_count": 64,
   "metadata": {},
   "outputs": [
    {
     "data": {
      "text/plain": [
       "(1113, 3)"
      ]
     },
     "execution_count": 64,
     "metadata": {},
     "output_type": "execute_result"
    }
   ],
   "source": [
    "posts_4.shape"
   ]
  },
  {
   "cell_type": "code",
   "execution_count": 33,
   "metadata": {},
   "outputs": [],
   "source": [
    "#posts_df_3['subreddit'] = posts_df_3['subreddit'].map({'movies': 0, 'television': 1})"
   ]
  },
  {
   "cell_type": "code",
   "execution_count": 65,
   "metadata": {},
   "outputs": [],
   "source": [
    "posts = [posts_1, posts_2, posts_4]"
   ]
  },
  {
   "cell_type": "code",
   "execution_count": 67,
   "metadata": {},
   "outputs": [],
   "source": [
    "df = pd.concat(posts, sort=False).reset_index(drop=True)"
   ]
  },
  {
   "cell_type": "code",
   "execution_count": 68,
   "metadata": {},
   "outputs": [
    {
     "data": {
      "text/plain": [
       "3405"
      ]
     },
     "execution_count": 68,
     "metadata": {},
     "output_type": "execute_result"
    }
   ],
   "source": [
    "len(df)"
   ]
  },
  {
   "cell_type": "code",
   "execution_count": 70,
   "metadata": {},
   "outputs": [],
   "source": [
    "import numpy as np"
   ]
  },
  {
   "cell_type": "code",
   "execution_count": 71,
   "metadata": {},
   "outputs": [],
   "source": [
    "mask = np.random.rand(len(df)) < 0.6 # generates a random split of the dataframe by 60%\n",
    "\n",
    "# assigns the split to a train and test (or holdout) set\n",
    "train = df[mask]\n",
    "test = df[~mask]"
   ]
  },
  {
   "cell_type": "code",
   "execution_count": 72,
   "metadata": {},
   "outputs": [
    {
     "data": {
      "text/plain": [
       "2061"
      ]
     },
     "execution_count": 72,
     "metadata": {},
     "output_type": "execute_result"
    }
   ],
   "source": [
    "len(train)"
   ]
  },
  {
   "cell_type": "code",
   "execution_count": 73,
   "metadata": {},
   "outputs": [
    {
     "data": {
      "text/plain": [
       "1344"
      ]
     },
     "execution_count": 73,
     "metadata": {},
     "output_type": "execute_result"
    }
   ],
   "source": [
    "len(test)"
   ]
  },
  {
   "cell_type": "code",
   "execution_count": 74,
   "metadata": {},
   "outputs": [
    {
     "data": {
      "text/html": [
       "<div>\n",
       "<style scoped>\n",
       "    .dataframe tbody tr th:only-of-type {\n",
       "        vertical-align: middle;\n",
       "    }\n",
       "\n",
       "    .dataframe tbody tr th {\n",
       "        vertical-align: top;\n",
       "    }\n",
       "\n",
       "    .dataframe thead th {\n",
       "        text-align: right;\n",
       "    }\n",
       "</style>\n",
       "<table border=\"1\" class=\"dataframe\">\n",
       "  <thead>\n",
       "    <tr style=\"text-align: right;\">\n",
       "      <th></th>\n",
       "      <th>posts_combined</th>\n",
       "      <th>subreddit</th>\n",
       "      <th>is_tv</th>\n",
       "    </tr>\n",
       "  </thead>\n",
       "  <tbody>\n",
       "    <tr>\n",
       "      <th>0</th>\n",
       "      <td>Official Discussion Weekly Megathread (Pet Sem...</td>\n",
       "      <td>movies</td>\n",
       "      <td>0</td>\n",
       "    </tr>\n",
       "    <tr>\n",
       "      <th>2</th>\n",
       "      <td>Twenty years ago, an upstart animator named Mi...</td>\n",
       "      <td>movies</td>\n",
       "      <td>0</td>\n",
       "    </tr>\n",
       "    <tr>\n",
       "      <th>6</th>\n",
       "      <td>10 years later and Avatar still holds the reco...</td>\n",
       "      <td>movies</td>\n",
       "      <td>0</td>\n",
       "    </tr>\n",
       "    <tr>\n",
       "      <th>7</th>\n",
       "      <td>‘Hellboy’ Receives Rare R 18+ Rating in Austra...</td>\n",
       "      <td>movies</td>\n",
       "      <td>0</td>\n",
       "    </tr>\n",
       "    <tr>\n",
       "      <th>8</th>\n",
       "      <td>In 2015, Maggie Gyllenhaal, then 37, was told ...</td>\n",
       "      <td>movies</td>\n",
       "      <td>0</td>\n",
       "    </tr>\n",
       "  </tbody>\n",
       "</table>\n",
       "</div>"
      ],
      "text/plain": [
       "                                      posts_combined subreddit  is_tv\n",
       "0  Official Discussion Weekly Megathread (Pet Sem...    movies      0\n",
       "2  Twenty years ago, an upstart animator named Mi...    movies      0\n",
       "6  10 years later and Avatar still holds the reco...    movies      0\n",
       "7  ‘Hellboy’ Receives Rare R 18+ Rating in Austra...    movies      0\n",
       "8  In 2015, Maggie Gyllenhaal, then 37, was told ...    movies      0"
      ]
     },
     "execution_count": 74,
     "metadata": {},
     "output_type": "execute_result"
    }
   ],
   "source": [
    "train.head()"
   ]
  },
  {
   "cell_type": "code",
   "execution_count": 75,
   "metadata": {},
   "outputs": [
    {
     "data": {
      "text/html": [
       "<div>\n",
       "<style scoped>\n",
       "    .dataframe tbody tr th:only-of-type {\n",
       "        vertical-align: middle;\n",
       "    }\n",
       "\n",
       "    .dataframe tbody tr th {\n",
       "        vertical-align: top;\n",
       "    }\n",
       "\n",
       "    .dataframe thead th {\n",
       "        text-align: right;\n",
       "    }\n",
       "</style>\n",
       "<table border=\"1\" class=\"dataframe\">\n",
       "  <thead>\n",
       "    <tr style=\"text-align: right;\">\n",
       "      <th></th>\n",
       "      <th>posts_combined</th>\n",
       "      <th>subreddit</th>\n",
       "      <th>is_tv</th>\n",
       "    </tr>\n",
       "  </thead>\n",
       "  <tbody>\n",
       "    <tr>\n",
       "      <th>3395</th>\n",
       "      <td>Doom Patrol 1x07 Promo “Therapy Patrol”</td>\n",
       "      <td>television</td>\n",
       "      <td>1</td>\n",
       "    </tr>\n",
       "    <tr>\n",
       "      <th>3396</th>\n",
       "      <td>What are you watching and what do you recommen...</td>\n",
       "      <td>television</td>\n",
       "      <td>1</td>\n",
       "    </tr>\n",
       "    <tr>\n",
       "      <th>3397</th>\n",
       "      <td>'Perry Mason' Limited Series starring Matthew ...</td>\n",
       "      <td>television</td>\n",
       "      <td>1</td>\n",
       "    </tr>\n",
       "    <tr>\n",
       "      <th>3400</th>\n",
       "      <td>Joey King is amazing in “The Act”</td>\n",
       "      <td>television</td>\n",
       "      <td>1</td>\n",
       "    </tr>\n",
       "    <tr>\n",
       "      <th>3404</th>\n",
       "      <td>How can I watch Game of Thrones season 8 LIVE?</td>\n",
       "      <td>television</td>\n",
       "      <td>1</td>\n",
       "    </tr>\n",
       "  </tbody>\n",
       "</table>\n",
       "</div>"
      ],
      "text/plain": [
       "                                         posts_combined   subreddit  is_tv\n",
       "3395            Doom Patrol 1x07 Promo “Therapy Patrol”  television      1\n",
       "3396  What are you watching and what do you recommen...  television      1\n",
       "3397  'Perry Mason' Limited Series starring Matthew ...  television      1\n",
       "3400                  Joey King is amazing in “The Act”  television      1\n",
       "3404     How can I watch Game of Thrones season 8 LIVE?  television      1"
      ]
     },
     "execution_count": 75,
     "metadata": {},
     "output_type": "execute_result"
    }
   ],
   "source": [
    "test.tail()"
   ]
  },
  {
   "cell_type": "code",
   "execution_count": 78,
   "metadata": {},
   "outputs": [],
   "source": [
    "# saves the data as a csv without indices\n",
    "train.to_csv('train.csv', index=False)"
   ]
  },
  {
   "cell_type": "code",
   "execution_count": 79,
   "metadata": {},
   "outputs": [],
   "source": [
    "test.to_csv('test.csv', index=False)"
   ]
  },
  {
   "cell_type": "code",
   "execution_count": null,
   "metadata": {},
   "outputs": [],
   "source": []
  }
 ],
 "metadata": {
  "kernelspec": {
   "display_name": "Python 3",
   "language": "python",
   "name": "python3"
  },
  "language_info": {
   "codemirror_mode": {
    "name": "ipython",
    "version": 3
   },
   "file_extension": ".py",
   "mimetype": "text/x-python",
   "name": "python",
   "nbconvert_exporter": "python",
   "pygments_lexer": "ipython3",
   "version": "3.7.1"
  }
 },
 "nbformat": 4,
 "nbformat_minor": 2
}
